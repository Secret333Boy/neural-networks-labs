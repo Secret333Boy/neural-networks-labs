{
 "cells": [
  {
   "cell_type": "code",
   "execution_count": 24,
   "metadata": {},
   "outputs": [],
   "source": [
    "import pandas as pd\n",
    "import numpy as np"
   ]
  },
  {
   "cell_type": "code",
   "execution_count": 25,
   "metadata": {},
   "outputs": [
    {
     "name": "stdout",
     "output_type": "stream",
     "text": [
      "(59597, 784)\n",
      "(59597, 1)\n",
      "(10403, 784)\n"
     ]
    }
   ],
   "source": [
    "train = pd.read_csv(\"./dataset/train.csv\")\n",
    "test = pd.read_csv(\"./dataset/test.csv\")\n",
    "\n",
    "x_train = train.drop(columns=[\"Id\", \"label\"]).to_numpy()\n",
    "y_train = train[\"label\"].to_numpy()[:, np.newaxis]\n",
    "\n",
    "x_test = test.drop(columns=[\"Id\"]).to_numpy()\n",
    "\n",
    "print(x_train.shape)\n",
    "print(y_train.shape)\n",
    "\n",
    "print(x_test.shape)"
   ]
  },
  {
   "cell_type": "code",
   "execution_count": 26,
   "metadata": {},
   "outputs": [
    {
     "name": "stdout",
     "output_type": "stream",
     "text": [
      "Epoch 1/50\n",
      "\u001b[1m  28/1677\u001b[0m \u001b[37m━━━━━━━━━━━━━━━━━━━━\u001b[0m \u001b[1m9s\u001b[0m 6ms/step - accuracy: 0.1068 - loss: 2.9193"
     ]
    },
    {
     "name": "stderr",
     "output_type": "stream",
     "text": [
      "2025-03-08 11:54:31.585578: I external/local_xla/xla/stream_executor/cuda/cuda_asm_compiler.cc:397] ptxas warning : Registers are spilled to local memory in function 'loop_add_subtract_fusion_5', 32 bytes spill stores, 32 bytes spill loads\n",
      "\n"
     ]
    },
    {
     "name": "stdout",
     "output_type": "stream",
     "text": [
      "\u001b[1m1677/1677\u001b[0m \u001b[32m━━━━━━━━━━━━━━━━━━━━\u001b[0m\u001b[37m\u001b[0m \u001b[1m0s\u001b[0m 6ms/step - accuracy: 0.5507 - loss: 1.4023"
     ]
    },
    {
     "name": "stderr",
     "output_type": "stream",
     "text": [
      "2025-03-08 11:54:42.455411: I external/local_xla/xla/stream_executor/cuda/cuda_asm_compiler.cc:397] ptxas warning : Registers are spilled to local memory in function 'loop_add_subtract_fusion_5', 32 bytes spill stores, 32 bytes spill loads\n",
      "\n"
     ]
    },
    {
     "name": "stdout",
     "output_type": "stream",
     "text": [
      "\u001b[1m1677/1677\u001b[0m \u001b[32m━━━━━━━━━━━━━━━━━━━━\u001b[0m\u001b[37m\u001b[0m \u001b[1m16s\u001b[0m 7ms/step - accuracy: 0.5508 - loss: 1.4020 - val_accuracy: 0.8820 - val_loss: 0.3960\n",
      "Epoch 2/50\n",
      "\u001b[1m1677/1677\u001b[0m \u001b[32m━━━━━━━━━━━━━━━━━━━━\u001b[0m\u001b[37m\u001b[0m \u001b[1m10s\u001b[0m 6ms/step - accuracy: 0.8686 - loss: 0.4170 - val_accuracy: 0.9238 - val_loss: 0.2565\n",
      "Epoch 3/50\n",
      "\u001b[1m1677/1677\u001b[0m \u001b[32m━━━━━━━━━━━━━━━━━━━━\u001b[0m\u001b[37m\u001b[0m \u001b[1m7s\u001b[0m 4ms/step - accuracy: 0.9130 - loss: 0.2744 - val_accuracy: 0.9389 - val_loss: 0.1999\n",
      "Epoch 4/50\n",
      "\u001b[1m1677/1677\u001b[0m \u001b[32m━━━━━━━━━━━━━━━━━━━━\u001b[0m\u001b[37m\u001b[0m \u001b[1m10s\u001b[0m 6ms/step - accuracy: 0.9340 - loss: 0.2065 - val_accuracy: 0.9488 - val_loss: 0.1737\n",
      "Epoch 5/50\n",
      "\u001b[1m1677/1677\u001b[0m \u001b[32m━━━━━━━━━━━━━━━━━━━━\u001b[0m\u001b[37m\u001b[0m \u001b[1m11s\u001b[0m 6ms/step - accuracy: 0.9460 - loss: 0.1645 - val_accuracy: 0.9534 - val_loss: 0.1549\n",
      "Epoch 6/50\n",
      "\u001b[1m1677/1677\u001b[0m \u001b[32m━━━━━━━━━━━━━━━━━━━━\u001b[0m\u001b[37m\u001b[0m \u001b[1m7s\u001b[0m 4ms/step - accuracy: 0.9598 - loss: 0.1239 - val_accuracy: 0.9582 - val_loss: 0.1452\n",
      "Epoch 7/50\n",
      "\u001b[1m1677/1677\u001b[0m \u001b[32m━━━━━━━━━━━━━━━━━━━━\u001b[0m\u001b[37m\u001b[0m \u001b[1m10s\u001b[0m 6ms/step - accuracy: 0.9670 - loss: 0.1020 - val_accuracy: 0.9611 - val_loss: 0.1362\n",
      "Epoch 8/50\n",
      "\u001b[1m1677/1677\u001b[0m \u001b[32m━━━━━━━━━━━━━━━━━━━━\u001b[0m\u001b[37m\u001b[0m \u001b[1m10s\u001b[0m 6ms/step - accuracy: 0.9712 - loss: 0.0873 - val_accuracy: 0.9638 - val_loss: 0.1272\n",
      "Epoch 9/50\n",
      "\u001b[1m1677/1677\u001b[0m \u001b[32m━━━━━━━━━━━━━━━━━━━━\u001b[0m\u001b[37m\u001b[0m \u001b[1m7s\u001b[0m 4ms/step - accuracy: 0.9770 - loss: 0.0690 - val_accuracy: 0.9644 - val_loss: 0.1209\n",
      "Epoch 10/50\n",
      "\u001b[1m1677/1677\u001b[0m \u001b[32m━━━━━━━━━━━━━━━━━━━━\u001b[0m\u001b[37m\u001b[0m \u001b[1m11s\u001b[0m 6ms/step - accuracy: 0.9805 - loss: 0.0590 - val_accuracy: 0.9656 - val_loss: 0.1197\n",
      "Epoch 11/50\n",
      "\u001b[1m1677/1677\u001b[0m \u001b[32m━━━━━━━━━━━━━━━━━━━━\u001b[0m\u001b[37m\u001b[0m \u001b[1m10s\u001b[0m 6ms/step - accuracy: 0.9827 - loss: 0.0507 - val_accuracy: 0.9693 - val_loss: 0.1127\n",
      "Epoch 12/50\n",
      "\u001b[1m1677/1677\u001b[0m \u001b[32m━━━━━━━━━━━━━━━━━━━━\u001b[0m\u001b[37m\u001b[0m \u001b[1m8s\u001b[0m 5ms/step - accuracy: 0.9848 - loss: 0.0450 - val_accuracy: 0.9678 - val_loss: 0.1168\n",
      "Epoch 13/50\n",
      "\u001b[1m1677/1677\u001b[0m \u001b[32m━━━━━━━━━━━━━━━━━━━━\u001b[0m\u001b[37m\u001b[0m \u001b[1m10s\u001b[0m 6ms/step - accuracy: 0.9881 - loss: 0.0365 - val_accuracy: 0.9693 - val_loss: 0.1124\n",
      "Epoch 14/50\n",
      "\u001b[1m1677/1677\u001b[0m \u001b[32m━━━━━━━━━━━━━━━━━━━━\u001b[0m\u001b[37m\u001b[0m \u001b[1m11s\u001b[0m 6ms/step - accuracy: 0.9883 - loss: 0.0340 - val_accuracy: 0.9718 - val_loss: 0.1097\n",
      "Epoch 15/50\n",
      "\u001b[1m1677/1677\u001b[0m \u001b[32m━━━━━━━━━━━━━━━━━━━━\u001b[0m\u001b[37m\u001b[0m \u001b[1m8s\u001b[0m 5ms/step - accuracy: 0.9899 - loss: 0.0304 - val_accuracy: 0.9733 - val_loss: 0.1103\n",
      "Epoch 16/50\n",
      "\u001b[1m1677/1677\u001b[0m \u001b[32m━━━━━━━━━━━━━━━━━━━━\u001b[0m\u001b[37m\u001b[0m \u001b[1m11s\u001b[0m 6ms/step - accuracy: 0.9910 - loss: 0.0278 - val_accuracy: 0.9720 - val_loss: 0.1114\n",
      "Epoch 17/50\n",
      "\u001b[1m1677/1677\u001b[0m \u001b[32m━━━━━━━━━━━━━━━━━━━━\u001b[0m\u001b[37m\u001b[0m \u001b[1m12s\u001b[0m 7ms/step - accuracy: 0.9927 - loss: 0.0234 - val_accuracy: 0.9740 - val_loss: 0.1110\n",
      "Epoch 18/50\n",
      "\u001b[1m1677/1677\u001b[0m \u001b[32m━━━━━━━━━━━━━━━━━━━━\u001b[0m\u001b[37m\u001b[0m \u001b[1m8s\u001b[0m 5ms/step - accuracy: 0.9922 - loss: 0.0240 - val_accuracy: 0.9710 - val_loss: 0.1118\n",
      "Epoch 19/50\n",
      "\u001b[1m1677/1677\u001b[0m \u001b[32m━━━━━━━━━━━━━━━━━━━━\u001b[0m\u001b[37m\u001b[0m \u001b[1m11s\u001b[0m 7ms/step - accuracy: 0.9926 - loss: 0.0211 - val_accuracy: 0.9706 - val_loss: 0.1101\n",
      "Epoch 20/50\n",
      "\u001b[1m1677/1677\u001b[0m \u001b[32m━━━━━━━━━━━━━━━━━━━━\u001b[0m\u001b[37m\u001b[0m \u001b[1m10s\u001b[0m 6ms/step - accuracy: 0.9944 - loss: 0.0171 - val_accuracy: 0.9727 - val_loss: 0.1112\n",
      "Epoch 21/50\n",
      "\u001b[1m1677/1677\u001b[0m \u001b[32m━━━━━━━━━━━━━━━━━━━━\u001b[0m\u001b[37m\u001b[0m \u001b[1m7s\u001b[0m 4ms/step - accuracy: 0.9946 - loss: 0.0175 - val_accuracy: 0.9730 - val_loss: 0.1095\n",
      "Epoch 22/50\n",
      "\u001b[1m1677/1677\u001b[0m \u001b[32m━━━━━━━━━━━━━━━━━━━━\u001b[0m\u001b[37m\u001b[0m \u001b[1m10s\u001b[0m 6ms/step - accuracy: 0.9932 - loss: 0.0193 - val_accuracy: 0.9742 - val_loss: 0.1097\n",
      "Epoch 23/50\n",
      "\u001b[1m1677/1677\u001b[0m \u001b[32m━━━━━━━━━━━━━━━━━━━━\u001b[0m\u001b[37m\u001b[0m \u001b[1m10s\u001b[0m 6ms/step - accuracy: 0.9947 - loss: 0.0162 - val_accuracy: 0.9721 - val_loss: 0.1175\n",
      "Epoch 24/50\n",
      "\u001b[1m1677/1677\u001b[0m \u001b[32m━━━━━━━━━━━━━━━━━━━━\u001b[0m\u001b[37m\u001b[0m \u001b[1m10s\u001b[0m 6ms/step - accuracy: 0.9944 - loss: 0.0173 - val_accuracy: 0.9748 - val_loss: 0.1089\n",
      "Epoch 25/50\n",
      "\u001b[1m1677/1677\u001b[0m \u001b[32m━━━━━━━━━━━━━━━━━━━━\u001b[0m\u001b[37m\u001b[0m \u001b[1m7s\u001b[0m 4ms/step - accuracy: 0.9950 - loss: 0.0146 - val_accuracy: 0.9753 - val_loss: 0.1117\n",
      "Epoch 26/50\n",
      "\u001b[1m1677/1677\u001b[0m \u001b[32m━━━━━━━━━━━━━━━━━━━━\u001b[0m\u001b[37m\u001b[0m \u001b[1m10s\u001b[0m 6ms/step - accuracy: 0.9959 - loss: 0.0127 - val_accuracy: 0.9758 - val_loss: 0.1072\n",
      "Epoch 27/50\n",
      "\u001b[1m1677/1677\u001b[0m \u001b[32m━━━━━━━━━━━━━━━━━━━━\u001b[0m\u001b[37m\u001b[0m \u001b[1m10s\u001b[0m 6ms/step - accuracy: 0.9959 - loss: 0.0125 - val_accuracy: 0.9758 - val_loss: 0.1060\n",
      "Epoch 28/50\n",
      "\u001b[1m1677/1677\u001b[0m \u001b[32m━━━━━━━━━━━━━━━━━━━━\u001b[0m\u001b[37m\u001b[0m \u001b[1m7s\u001b[0m 4ms/step - accuracy: 0.9958 - loss: 0.0126 - val_accuracy: 0.9772 - val_loss: 0.1125\n",
      "Epoch 29/50\n",
      "\u001b[1m1677/1677\u001b[0m \u001b[32m━━━━━━━━━━━━━━━━━━━━\u001b[0m\u001b[37m\u001b[0m \u001b[1m10s\u001b[0m 6ms/step - accuracy: 0.9958 - loss: 0.0122 - val_accuracy: 0.9785 - val_loss: 0.1110\n",
      "Epoch 30/50\n",
      "\u001b[1m1677/1677\u001b[0m \u001b[32m━━━━━━━━━━━━━━━━━━━━\u001b[0m\u001b[37m\u001b[0m \u001b[1m10s\u001b[0m 6ms/step - accuracy: 0.9959 - loss: 0.0121 - val_accuracy: 0.9770 - val_loss: 0.1043\n",
      "Epoch 31/50\n",
      "\u001b[1m1677/1677\u001b[0m \u001b[32m━━━━━━━━━━━━━━━━━━━━\u001b[0m\u001b[37m\u001b[0m \u001b[1m7s\u001b[0m 4ms/step - accuracy: 0.9971 - loss: 0.0096 - val_accuracy: 0.9768 - val_loss: 0.1062\n",
      "Epoch 32/50\n",
      "\u001b[1m1677/1677\u001b[0m \u001b[32m━━━━━━━━━━━━━━━━━━━━\u001b[0m\u001b[37m\u001b[0m \u001b[1m13s\u001b[0m 6ms/step - accuracy: 0.9967 - loss: 0.0103 - val_accuracy: 0.9768 - val_loss: 0.1090\n",
      "Epoch 33/50\n",
      "\u001b[1m1677/1677\u001b[0m \u001b[32m━━━━━━━━━━━━━━━━━━━━\u001b[0m\u001b[37m\u001b[0m \u001b[1m10s\u001b[0m 6ms/step - accuracy: 0.9971 - loss: 0.0088 - val_accuracy: 0.9782 - val_loss: 0.1042\n",
      "Epoch 34/50\n",
      "\u001b[1m1677/1677\u001b[0m \u001b[32m━━━━━━━━━━━━━━━━━━━━\u001b[0m\u001b[37m\u001b[0m \u001b[1m7s\u001b[0m 4ms/step - accuracy: 0.9967 - loss: 0.0099 - val_accuracy: 0.9765 - val_loss: 0.1106\n",
      "Epoch 35/50\n",
      "\u001b[1m1677/1677\u001b[0m \u001b[32m━━━━━━━━━━━━━━━━━━━━\u001b[0m\u001b[37m\u001b[0m \u001b[1m11s\u001b[0m 6ms/step - accuracy: 0.9961 - loss: 0.0106 - val_accuracy: 0.9772 - val_loss: 0.1066\n",
      "Epoch 36/50\n",
      "\u001b[1m1677/1677\u001b[0m \u001b[32m━━━━━━━━━━━━━━━━━━━━\u001b[0m\u001b[37m\u001b[0m \u001b[1m11s\u001b[0m 6ms/step - accuracy: 0.9979 - loss: 0.0080 - val_accuracy: 0.9773 - val_loss: 0.1031\n",
      "Epoch 37/50\n",
      "\u001b[1m1677/1677\u001b[0m \u001b[32m━━━━━━━━━━━━━━━━━━━━\u001b[0m\u001b[37m\u001b[0m \u001b[1m7s\u001b[0m 4ms/step - accuracy: 0.9967 - loss: 0.0101 - val_accuracy: 0.9780 - val_loss: 0.1029\n",
      "Epoch 38/50\n",
      "\u001b[1m1677/1677\u001b[0m \u001b[32m━━━━━━━━━━━━━━━━━━━━\u001b[0m\u001b[37m\u001b[0m \u001b[1m10s\u001b[0m 6ms/step - accuracy: 0.9975 - loss: 0.0077 - val_accuracy: 0.9782 - val_loss: 0.0994\n",
      "Epoch 39/50\n",
      "\u001b[1m1677/1677\u001b[0m \u001b[32m━━━━━━━━━━━━━━━━━━━━\u001b[0m\u001b[37m\u001b[0m \u001b[1m11s\u001b[0m 6ms/step - accuracy: 0.9973 - loss: 0.0079 - val_accuracy: 0.9787 - val_loss: 0.1046\n",
      "Epoch 40/50\n",
      "\u001b[1m1677/1677\u001b[0m \u001b[32m━━━━━━━━━━━━━━━━━━━━\u001b[0m\u001b[37m\u001b[0m \u001b[1m7s\u001b[0m 4ms/step - accuracy: 0.9969 - loss: 0.0095 - val_accuracy: 0.9767 - val_loss: 0.1074\n",
      "Epoch 41/50\n",
      "\u001b[1m1677/1677\u001b[0m \u001b[32m━━━━━━━━━━━━━━━━━━━━\u001b[0m\u001b[37m\u001b[0m \u001b[1m11s\u001b[0m 6ms/step - accuracy: 0.9978 - loss: 0.0073 - val_accuracy: 0.9784 - val_loss: 0.1089\n",
      "Epoch 42/50\n",
      "\u001b[1m1677/1677\u001b[0m \u001b[32m━━━━━━━━━━━━━━━━━━━━\u001b[0m\u001b[37m\u001b[0m \u001b[1m17s\u001b[0m 4ms/step - accuracy: 0.9978 - loss: 0.0073 - val_accuracy: 0.9789 - val_loss: 0.1029\n",
      "Epoch 43/50\n",
      "\u001b[1m1677/1677\u001b[0m \u001b[32m━━━━━━━━━━━━━━━━━━━━\u001b[0m\u001b[37m\u001b[0m \u001b[1m11s\u001b[0m 6ms/step - accuracy: 0.9977 - loss: 0.0080 - val_accuracy: 0.9779 - val_loss: 0.1104\n",
      "Epoch 44/50\n",
      "\u001b[1m1677/1677\u001b[0m \u001b[32m━━━━━━━━━━━━━━━━━━━━\u001b[0m\u001b[37m\u001b[0m \u001b[1m10s\u001b[0m 6ms/step - accuracy: 0.9974 - loss: 0.0080 - val_accuracy: 0.9795 - val_loss: 0.1031\n",
      "Epoch 45/50\n",
      "\u001b[1m1677/1677\u001b[0m \u001b[32m━━━━━━━━━━━━━━━━━━━━\u001b[0m\u001b[37m\u001b[0m \u001b[1m8s\u001b[0m 5ms/step - accuracy: 0.9979 - loss: 0.0073 - val_accuracy: 0.9785 - val_loss: 0.1070\n",
      "Epoch 46/50\n",
      "\u001b[1m1677/1677\u001b[0m \u001b[32m━━━━━━━━━━━━━━━━━━━━\u001b[0m\u001b[37m\u001b[0m \u001b[1m11s\u001b[0m 7ms/step - accuracy: 0.9981 - loss: 0.0058 - val_accuracy: 0.9780 - val_loss: 0.1041\n",
      "Epoch 47/50\n",
      "\u001b[1m1677/1677\u001b[0m \u001b[32m━━━━━━━━━━━━━━━━━━━━\u001b[0m\u001b[37m\u001b[0m \u001b[1m10s\u001b[0m 6ms/step - accuracy: 0.9978 - loss: 0.0068 - val_accuracy: 0.9790 - val_loss: 0.1010\n",
      "Epoch 48/50\n",
      "\u001b[1m1677/1677\u001b[0m \u001b[32m━━━━━━━━━━━━━━━━━━━━\u001b[0m\u001b[37m\u001b[0m \u001b[1m10s\u001b[0m 6ms/step - accuracy: 0.9980 - loss: 0.0065 - val_accuracy: 0.9802 - val_loss: 0.1023\n",
      "Epoch 49/50\n",
      "\u001b[1m1677/1677\u001b[0m \u001b[32m━━━━━━━━━━━━━━━━━━━━\u001b[0m\u001b[37m\u001b[0m \u001b[1m7s\u001b[0m 4ms/step - accuracy: 0.9984 - loss: 0.0052 - val_accuracy: 0.9800 - val_loss: 0.1076\n",
      "Epoch 50/50\n",
      "\u001b[1m1677/1677\u001b[0m \u001b[32m━━━━━━━━━━━━━━━━━━━━\u001b[0m\u001b[37m\u001b[0m \u001b[1m10s\u001b[0m 6ms/step - accuracy: 0.9981 - loss: 0.0061 - val_accuracy: 0.9799 - val_loss: 0.1045\n"
     ]
    },
    {
     "data": {
      "text/plain": [
       "<keras.src.callbacks.history.History at 0x7fb5fa9c7f10>"
      ]
     },
     "execution_count": 26,
     "metadata": {},
     "output_type": "execute_result"
    }
   ],
   "source": [
    "import tensorflow as tf\n",
    "from tensorflow.keras.models import Sequential\n",
    "from tensorflow.keras.layers import Dense, Input, Dropout, BatchNormalization\n",
    "from tensorflow.keras.optimizers import Adam\n",
    "from tensorflow.keras.losses import SparseCategoricalCrossentropy\n",
    "\n",
    "\n",
    "model = Sequential([Input(shape=(784,)), \n",
    "                    Dense(1024, activation='relu'),\n",
    "                    BatchNormalization(),\n",
    "                    Dense(1024, activation='relu'),\n",
    "                    BatchNormalization(),\n",
    "                    Dense(1024, activation='relu'),\n",
    "                    BatchNormalization(),\n",
    "                    Dense(1024, activation='relu'),\n",
    "                    BatchNormalization(),\n",
    "                    Dense(1024, activation='relu'),\n",
    "                    BatchNormalization(),\n",
    "                    Dense(1024, activation='relu'),\n",
    "                    BatchNormalization(),\n",
    "                    Dense(1024, activation='relu'),\n",
    "                    BatchNormalization(),\n",
    "                    Dense(1024, activation='relu'),\n",
    "                    BatchNormalization(),\n",
    "                    Dense(1024, activation='relu'),\n",
    "                    BatchNormalization(),\n",
    "                    Dense(10, activation='softmax')])\n",
    "\n",
    "\n",
    "model.compile(optimizer=Adam(learning_rate=1e-5),\n",
    "              loss=SparseCategoricalCrossentropy(),\n",
    "              metrics=['accuracy'])\n",
    "\n",
    "model.fit(x_train, y_train, epochs=50, validation_split=0.1)"
   ]
  },
  {
   "cell_type": "code",
   "execution_count": 27,
   "metadata": {},
   "outputs": [
    {
     "name": "stdout",
     "output_type": "stream",
     "text": [
      "\u001b[1m326/326\u001b[0m \u001b[32m━━━━━━━━━━━━━━━━━━━━\u001b[0m\u001b[37m\u001b[0m \u001b[1m1s\u001b[0m 2ms/step\n"
     ]
    }
   ],
   "source": [
    "predictions = model.predict(x_test)\n",
    "results = np.array(predictions).argmax(axis=1)\n",
    "\n",
    "ids = test[\"Id\"].to_numpy()\n",
    "\n",
    "result_df = pd.DataFrame({\"Id\": ids, \"label\": results}, columns=[\"Id\", \"label\"])\n",
    "result_df.to_csv(\"./output.csv\", index=False)"
   ]
  }
 ],
 "metadata": {
  "kernelspec": {
   "display_name": "Python 3",
   "language": "python",
   "name": "python3"
  },
  "language_info": {
   "codemirror_mode": {
    "name": "ipython",
    "version": 3
   },
   "file_extension": ".py",
   "mimetype": "text/x-python",
   "name": "python",
   "nbconvert_exporter": "python",
   "pygments_lexer": "ipython3",
   "version": "3.10.12"
  }
 },
 "nbformat": 4,
 "nbformat_minor": 2
}
