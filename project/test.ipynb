{
 "cells": [
  {
   "cell_type": "code",
   "execution_count": 10,
   "id": "2405f2fe",
   "metadata": {},
   "outputs": [],
   "source": [
    "from ultralytics import YOLO\n",
    "from time import time\n",
    "from glob import glob\n",
    "from PIL import Image\n",
    "import numpy as np"
   ]
  },
  {
   "cell_type": "code",
   "execution_count": 4,
   "id": "8a95625b",
   "metadata": {},
   "outputs": [],
   "source": [
    "yolo5 = YOLO(\"./runs/detect/my_yolov5nu.pt_model/weights/best.pt\")\n",
    "yolo8 = YOLO(\"./runs/detect/my_yolov8n.pt_model/weights/best.pt\")\n",
    "yolo11 = YOLO(\"./runs/detect/my_yolo11n.pt_model/weights/best.pt\")\n",
    "\n",
    "yolo_models = [yolo5, yolo8, yolo11]\n"
   ]
  },
  {
   "cell_type": "code",
   "execution_count": 12,
   "id": "435dbc3f",
   "metadata": {},
   "outputs": [
    {
     "data": {
      "text/plain": [
       "449"
      ]
     },
     "execution_count": 12,
     "metadata": {},
     "output_type": "execute_result"
    }
   ],
   "source": [
    "imgs_paths = glob(\"./dataset/test/images/*.jpg\")\n",
    "\n",
    "imgs = np.array([Image.open(path) for path in imgs_paths])\n",
    "\n",
    "len(imgs)"
   ]
  },
  {
   "cell_type": "code",
   "execution_count": 20,
   "id": "d6b35a3b",
   "metadata": {},
   "outputs": [],
   "source": [
    "def test_yolo_model(model: YOLO):\n",
    "  start_time = time()\n",
    "  for img in imgs:\n",
    "    model.predict(img, imgsz=640, conf=0.2, verbose=False)\n",
    "  end_time = time()\n",
    "  elapsed_seconds = end_time - start_time\n",
    "  \n",
    "  fps = float(len(imgs)) / elapsed_seconds\n",
    "  print(f\"FPS: {fps}\")\n",
    "  "
   ]
  },
  {
   "cell_type": "code",
   "execution_count": 21,
   "id": "d3805dc1",
   "metadata": {},
   "outputs": [
    {
     "name": "stdout",
     "output_type": "stream",
     "text": [
      "Testing ./runs/detect/my_yolov5nu.pt_model/weights/best.pt\n",
      "FPS: 123.86417894181521\n",
      "Testing ./runs/detect/my_yolov8n.pt_model/weights/best.pt\n",
      "FPS: 125.77410713385297\n",
      "Testing ./runs/detect/my_yolo11n.pt_model/weights/best.pt\n",
      "FPS: 101.70148468828296\n"
     ]
    }
   ],
   "source": [
    "for model in yolo_models:\n",
    "  print(f\"Testing {model.model_name}\")\n",
    "  test_yolo_model(model)"
   ]
  }
 ],
 "metadata": {
  "kernelspec": {
   "display_name": "Python 3",
   "language": "python",
   "name": "python3"
  },
  "language_info": {
   "codemirror_mode": {
    "name": "ipython",
    "version": 3
   },
   "file_extension": ".py",
   "mimetype": "text/x-python",
   "name": "python",
   "nbconvert_exporter": "python",
   "pygments_lexer": "ipython3",
   "version": "3.11.4"
  }
 },
 "nbformat": 4,
 "nbformat_minor": 5
}
